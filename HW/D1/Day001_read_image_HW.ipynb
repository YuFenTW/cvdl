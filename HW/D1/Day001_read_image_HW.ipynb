{
 "cells": [
  {
   "cell_type": "markdown",
   "metadata": {},
   "source": [
    "# 作業\n",
    "\n",
    "思考一下我們前面有提到圖片是矩陣，但維度可能會不一樣\n",
    "例如灰階圖只有兩個維度，RGB 彩圖則有 3 個維度\n",
    "\n",
    "假如今天我們把 RGB 3 個維度拆開來看會有甚麼不同的效果呢？"
   ]
  },
  {
   "cell_type": "markdown",
   "metadata": {},
   "source": [
    "注意 : RGB 3 個維度, 在 array 中的順序是 ==> **[blue, green, red]**"
   ]
  },
  {
   "cell_type": "code",
   "execution_count": 3,
   "metadata": {},
   "outputs": [],
   "source": [
    "import cv2\n",
    "\n",
    "img_path = 'data/lena.png'\n",
    "\n",
    "img = cv2.imread(img_path, cv2.IMREAD_COLOR)\n",
    "\n",
    "# set green and red channels to 0\n",
    "rChannel = img.copy()\n",
    "rChannel[:, :, 0] = 0\n",
    "rChannel[:, :, 1] = 0\n",
    "\n",
    "# set red and blue channels to 0\n",
    "gChannel = img.copy()\n",
    "gChannel[:, :, 0] = 0\n",
    "gChannel[:, :, 2] = 0\n",
    "\n",
    "# set red and green channels to 0\n",
    "bChannel = img.copy()\n",
    "bChannel[:, :, 1] = 0\n",
    "bChannel[:, :, 2] = 0\n",
    "\n",
    "while True:  \n",
    "    cv2.imshow('red', rChannel)\n",
    "    cv2.imshow('green', gChannel)\n",
    "    cv2.imshow('blue', bChannel)\n",
    "\n",
    "    k = cv2.waitKey(0)\n",
    "    \n",
    "    # wait [esc] key\n",
    "    if k == 27:\n",
    "        cv2.destroyAllWindows()\n",
    "        break;"
   ]
  },
  {
   "cell_type": "code",
   "execution_count": null,
   "metadata": {},
   "outputs": [],
   "source": []
  }
 ],
 "metadata": {
  "kernelspec": {
   "display_name": "Python 3",
   "language": "python",
   "name": "python3"
  },
  "language_info": {
   "codemirror_mode": {
    "name": "ipython",
    "version": 3
   },
   "file_extension": ".py",
   "mimetype": "text/x-python",
   "name": "python",
   "nbconvert_exporter": "python",
   "pygments_lexer": "ipython3",
   "version": "3.6.8"
  }
 },
 "nbformat": 4,
 "nbformat_minor": 2
}
