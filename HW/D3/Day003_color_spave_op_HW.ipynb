{
 "cells": [
  {
   "cell_type": "markdown",
   "metadata": {},
   "source": [
    "# 作業\n",
    "\n",
    "實作各種不一樣的方式來調整飽和 / 對比 / 明亮\n",
    "\n",
    "1. 改變 color space 來調整飽和度\n",
    "2. 實作直方圖均衡\n",
    "3. alpha/ beta 調整對比 / 明亮"
   ]
  },
  {
   "cell_type": "code",
   "execution_count": 1,
   "metadata": {},
   "outputs": [],
   "source": [
    "import cv2\n",
    "import numpy as np\n",
    "\n",
    "img_path = 'data/lena.png'\n",
    "\n",
    "# 以彩色圖片的方式載入\n",
    "img = cv2.imread(img_path, cv2.IMREAD_COLOR)"
   ]
  },
  {
   "cell_type": "markdown",
   "metadata": {},
   "source": [
    "# 改變飽和度\n",
    "\n",
    "- 轉換成 HSV color space, 改變 s channel 的值\n",
    "- HSV 取值範圍\n",
    "    - H (Hue, 色相) ==> 0 ≤ **H** ≤ 360\n",
    "    - S (Saturation, 飽和度) ==> 0 ≤ **S** ≤ 1\n",
    "    - V (Value, 色調) ==> 0 ≤ **V** ≤ 1\n",
    "- 在 uint8 中，最大值只有 255，因此OpenCV有做了調整\n",
    "    - H：0~180 ==>  H/2\n",
    "    - S：0~255 ==>  S*255\n",
    "    - V：0~255 ==>  V*255\n",
    "    \n",
    "==> HSV 飽和度是指顏色的深淺比例，顏色越深飽和度越高，白色所占比例越高，飽和度越低。\n",
    "<br>&nbsp;&nbsp;&nbsp;&nbsp;&nbsp;&nbsp;&nbsp;(** 這裡和 HLS 不同 ==> HLS 飽和度越高，色彩越艷麗；飽和度越低，色彩越接近灰色。)"
   ]
  },
  {
   "cell_type": "code",
   "execution_count": 10,
   "metadata": {},
   "outputs": [],
   "source": [
    "# 為了要改變飽和度，我們先把 color space 轉成 HSV 格式\n",
    "img_hsv = cv2.cvtColor(img, cv2.COLOR_BGR2HSV)\n",
    "change_percentage = 0.2\n",
    "\n",
    "# 針對飽和度的值做改變，超過界線 0~1 的都會 bound\n",
    "# 在 HSV color space 減少飽和度\n",
    "img_hsv_down = img_hsv.astype('float32')\n",
    "img_hsv_down[..., 1] = img_hsv_down[..., 1]/255 - change_percentage\n",
    "img_hsv_down[img_hsv_down[..., 1] < 0] = 0  \n",
    "img_hsv_down[..., 1] = img_hsv_down[..., 1]*255  \n",
    "img_hsv_down = img_hsv_down.astype('uint8')  \n",
    "\n",
    "# 在 HSV color space 增加飽和度\n",
    "img_hsv_up = img_hsv.astype('float32')\n",
    "img_hsv_up[..., 1] = img_hsv_up[..., 1]/255 + change_percentage\n",
    "img_hsv_up[img_hsv_up[..., 1] < 0] = 0  \n",
    "img_hsv_up[..., 1] = img_hsv_up[..., 1]*255  \n",
    "img_hsv_up = img_hsv_up.astype('uint8')  \n",
    "\n",
    "# 轉換 color space 回 BGR\n",
    "img_hsv_down = cv2.cvtColor(img_hsv_down, cv2.COLOR_HLS2BGR)\n",
    "img_hsv_up = cv2.cvtColor(img_hsv_up, cv2.COLOR_HLS2BGR)\n",
    "\n",
    "# 組合圖片 + 顯示圖片\n",
    "img_hsv_change = np.hstack((img, img_hsv_down, img_hsv_up))\n",
    "while True:\n",
    "    cv2.imshow('change saturation', img_hsv_change)\n",
    "    \n",
    "    k = cv2.waitKey(0)\n",
    "    if k == 27:\n",
    "        cv2.destroyAllWindows()\n",
    "        break"
   ]
  },
  {
   "cell_type": "markdown",
   "metadata": {},
   "source": [
    "## 直方圖均衡\n",
    "\n",
    "1. case 1: 把彩圖拆開對每個 channel 個別做直方圖均衡再組合起來\n",
    "2. case 2: 轉換 color space 到 HSV 之後對其中一個 channel 做直方圖均衡"
   ]
  },
  {
   "cell_type": "code",
   "execution_count": 22,
   "metadata": {},
   "outputs": [],
   "source": [
    "# case 1\n",
    "# 每個 channel 個別做直方圖均衡\n",
    "equalHist_by_bchannel = img.copy()\n",
    "equalHist_by_bchannel[:,:,0] = cv2.equalizeHist(img[:,:,0])\n",
    "\n",
    "equalHist_by_gchannel = img.copy()\n",
    "equalHist_by_gchannel[:,:,1] = cv2.equalizeHist(img[:,:,1])\n",
    "\n",
    "equalHist_by_rchannel = img.copy()\n",
    "equalHist_by_rchannel[:,:,-1] = cv2.equalizeHist(img[:,:,-1])\n",
    "\n",
    "# 組合經過直方圖均衡的每個 channel\n",
    "img_bgr_equal = np.hstack((equalHist_by_bchannel, equalHist_by_gchannel, equalHist_by_rchannel))\n",
    "\n",
    "while True:\n",
    "    # 比較灰階圖片是否有做直方圖均衡的差異\n",
    "    cv2.imshow('bgr channel equal histogram', img_bgr_equal)\n",
    "\n",
    "    k = cv2.waitKey(0)\n",
    "    if k == 27:\n",
    "        cv2.destroyAllWindows()\n",
    "        break"
   ]
  },
  {
   "cell_type": "code",
   "execution_count": 24,
   "metadata": {},
   "outputs": [],
   "source": [
    "# case 2 - 轉換 color space 後只對其中一個 channel 做直方圖均衡 ==> 對 V Channel(明度)) 作均衡\n",
    "img_hsv_equal = img_hsv.copy()\n",
    "img_hsv_equal[:,:,-1] = cv2.equalizeHist(img_hsv[:,:,-1])\n",
    "\n",
    "# 組合圖片 + 顯示圖片\n",
    "img_bgr_equalHist = np.hstack((img, img_bgr_equal, img_hsv_equal))\n",
    "while True:\n",
    "    # 比較 (原圖, BGR color space 對每個 channel 做直方圖均衡, HSV color space 對明度做直方圖均衡)\n",
    "    cv2.imshow('bgr & hsv(v) equal histogram', img_bgr_equalHist)\n",
    "    k = cv2.waitKey(0)\n",
    "    if k == 27:\n",
    "        cv2.destroyAllWindows()\n",
    "        break       "
   ]
  },
  {
   "cell_type": "markdown",
   "metadata": {},
   "source": [
    "## 調整對比 / 明亮"
   ]
  },
  {
   "cell_type": "code",
   "execution_count": 26,
   "metadata": {},
   "outputs": [],
   "source": [
    "# alpha: 控制對比度 (1.0 ~ 3.0)\n",
    "# beta: 控制明亮度 (0 ~ 255)\n",
    "add_contrast = cv2.convertScaleAbs(img, alpha=2.0, beta=0)\n",
    "add_lighness = cv2.convertScaleAbs(img, alpha=1.0, beta=100)\n",
    "\n",
    "# 組合圖片 + 顯示圖片\n",
    "img_contrast_light = np.hstack((img, add_contrast, add_lighness))\n",
    "while True:\n",
    "    # 比較不同程度的對比 / 明亮\n",
    "    cv2.imshow('adjust contrast and brighness', img_contrast_light)\n",
    "    k = cv2.waitKey(0)\n",
    "    if k == 27:\n",
    "        cv2.destroyAllWindows()\n",
    "        break"
   ]
  },
  {
   "cell_type": "code",
   "execution_count": null,
   "metadata": {},
   "outputs": [],
   "source": []
  }
 ],
 "metadata": {
  "kernelspec": {
   "display_name": "Python 3",
   "language": "python",
   "name": "python3"
  },
  "language_info": {
   "codemirror_mode": {
    "name": "ipython",
    "version": 3
   },
   "file_extension": ".py",
   "mimetype": "text/x-python",
   "name": "python",
   "nbconvert_exporter": "python",
   "pygments_lexer": "ipython3",
   "version": "3.6.8"
  }
 },
 "nbformat": 4,
 "nbformat_minor": 2
}
